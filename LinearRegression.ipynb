{
 "cells": [
  {
   "cell_type": "code",
   "execution_count": null,
   "metadata": {},
   "outputs": [],
   "source": [
    "import pandas as pd\n",
    "import numpy as np\n",
    "from sklearn.linear_model import LinearRegression\n",
    "from sklearn.metrics import mean_absolute_error, mean_squared_error, r2_score\n",
    "import matplotlib.pyplot as plt\n",
    "\n",
    "dataroot = '../WaterLevelPredction_SelectingModel//Data/'"
   ]
  },
  {
   "cell_type": "code",
   "execution_count": null,
   "metadata": {},
   "outputs": [],
   "source": [
    "df = pd.read_pickle(dataroot+'finaldata.pkl')"
   ]
  },
  {
   "cell_type": "code",
   "execution_count": null,
   "metadata": {},
   "outputs": [],
   "source": [
    "# Train and test split\n",
    "\n",
    "train = df.loc[df.index < 2917]\n",
    "test = df.loc[df.index >= 2917]\n",
    "\n",
    "plt.figure(figsize=(20, 8))\n",
    "\n",
    "plt.title('Chia tập học và tập thử')\n",
    "\n",
    "plt.plot(train['date'], train['water_level'], label='tập học', color='blue')\n",
    "plt.plot(test['date'], test['water_level'], label='tập thử', color='red')\n",
    "\n",
    "plt.fill_between(train['date'], 468, train['water_level'], color='lightblue')\n",
    "plt.fill_between(test['date'], 468, test['water_level'], color='lightcoral')\n",
    "\n",
    "plt.ylabel('Mực nước (m)')\n",
    "\n",
    "plt.axvline(train['date'].iloc[-1], color='black', linestyle='--')\n",
    "\n",
    "plt.grid()\n",
    "plt.legend()\n",
    "plt.show()"
   ]
  },
  {
   "cell_type": "code",
   "execution_count": null,
   "metadata": {},
   "outputs": [],
   "source": [
    "#chọn mục huấn luyện\n",
    "feature = ['year','month','day','hour','precipitation','sluice_status']\n",
    "target = 'water_level'"
   ]
  },
  {
   "cell_type": "code",
   "execution_count": null,
   "metadata": {},
   "outputs": [],
   "source": [
    "X_train = train[feature]\n",
    "y_train = train[target]\n",
    "\n",
    "X_test = test[feature]\n",
    "y_test = test[target]"
   ]
  },
  {
   "cell_type": "code",
   "execution_count": null,
   "metadata": {},
   "outputs": [],
   "source": [
    "#Huấn luyện mô hình\n",
    "lin_reg = LinearRegression()\n",
    "lin_reg.fit(X_train, y_train)"
   ]
  },
  {
   "cell_type": "code",
   "execution_count": null,
   "metadata": {},
   "outputs": [],
   "source": [
    "#\n",
    "test.loc[:,'prediction']=lin_reg.predict(X_test)\n",
    "df.merge(test['prediction'],how='left',left_index=True, right_index=True)\n",
    "\n",
    "plt.figure(figsize=(20, 8))\n",
    "plt.plot(test['date'], test['water_level'], label='Actual', color='blue')\n",
    "plt.plot(test['date'], test['prediction'], label='Prediction', color='red', linestyle='dashed')\n",
    "\n",
    "plt.legend()\n",
    "plt.show()"
   ]
  },
  {
   "cell_type": "code",
   "execution_count": null,
   "metadata": {},
   "outputs": [],
   "source": [
    "rmse = np.sqrt(mean_squared_error(test['water_level'], test['prediction']))\n",
    "print(\"RMSE:\", rmse)\n",
    "\n",
    "r2 = r2_score(test['water_level'], test['prediction'])\n",
    "print(\"R2 Score:\", r2)"
   ]
  }
 ],
 "metadata": {
  "kernelspec": {
   "display_name": "Python 3",
   "language": "python",
   "name": "python3"
  },
  "language_info": {
   "codemirror_mode": {
    "name": "ipython",
    "version": 3
   },
   "file_extension": ".py",
   "mimetype": "text/x-python",
   "name": "python",
   "nbconvert_exporter": "python",
   "pygments_lexer": "ipython3",
   "version": "3.11.6"
  }
 },
 "nbformat": 4,
 "nbformat_minor": 2
}
